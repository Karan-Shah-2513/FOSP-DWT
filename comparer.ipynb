{
 "cells": [
  {
   "cell_type": "code",
   "execution_count": 1,
   "metadata": {},
   "outputs": [],
   "source": [
    "import numpy as np\n",
    "import matplotlib.pyplot as plt\n",
    "import soundfile as sf\n"
   ]
  },
  {
   "cell_type": "code",
   "execution_count": 2,
   "metadata": {},
   "outputs": [],
   "source": [
    "# Read in two audio files\n",
    "file1 = 'low_freq_signal_0.wav'\n",
    "file2 = 'speech.wav'\n",
    "signal1, sr1 = sf.read(file1)\n",
    "signal2, sr2 = sf.read(file2)"
   ]
  },
  {
   "cell_type": "code",
   "execution_count": 3,
   "metadata": {},
   "outputs": [],
   "source": [
    "# Reshape signal2 to match signal1 shape\n",
    "signal2 = signal2.reshape(-1)\n",
    "\n",
    "# Pad the shorter signal with zeros to the length of the longer one\n",
    "if len(signal1) > len(signal2):\n",
    "    signal2 = np.pad(signal2, (0, len(signal1) - len(signal2)))\n",
    "else:\n",
    "    signal1 = np.pad(signal1, (0, len(signal2) - len(signal1)))\n"
   ]
  },
  {
   "cell_type": "code",
   "execution_count": 4,
   "metadata": {},
   "outputs": [
    {
     "ename": "",
     "evalue": "",
     "output_type": "error",
     "traceback": [
      "\u001b[1;31mCanceled future for execute_request message before replies were done"
     ]
    },
    {
     "ename": "",
     "evalue": "",
     "output_type": "error",
     "traceback": [
      "\u001b[1;31mThe Kernel crashed while executing code in the the current cell or a previous cell. Please review the code in the cell(s) to identify a possible cause of the failure. Click <a href='https://aka.ms/vscodeJupyterKernelCrash'>here</a> for more info. View Jupyter <a href='command:jupyter.viewOutput'>log</a> for further details."
     ]
    }
   ],
   "source": [
    "# Compute the RMS error between the two signals\n",
    "error = np.sqrt(np.mean((signal1 - signal2)**2))\n",
    "\n",
    "# Display a plot comparing the two signals\n",
    "t1 = np.arange(0, len(signal1)/sr1, 1/sr1)\n",
    "t2 = np.arange(0, len(signal2)/sr2, 1/sr2)\n",
    "plt.subplot(2, 1, 1)\n",
    "plt.plot(t1, signal1)\n",
    "plt.title('Signal 1')\n",
    "plt.xlabel('Time (s)')\n",
    "plt.ylabel('Amplitude')\n",
    "plt.subplot(2, 1, 2)\n",
    "plt.plot(t2, signal2)\n",
    "plt.title('Signal 2')\n",
    "plt.xlabel('Time (s)')\n",
    "plt.ylabel('Amplitude')\n",
    "plt.show()\n",
    "\n",
    "# Print the RMS error\n",
    "print('RMS Error:', error)"
   ]
  }
 ],
 "metadata": {
  "kernelspec": {
   "display_name": "venv",
   "language": "python",
   "name": "python3"
  },
  "language_info": {
   "codemirror_mode": {
    "name": "ipython",
    "version": 3
   },
   "file_extension": ".py",
   "mimetype": "text/x-python",
   "name": "python",
   "nbconvert_exporter": "python",
   "pygments_lexer": "ipython3",
   "version": "3.10.6"
  },
  "orig_nbformat": 4
 },
 "nbformat": 4,
 "nbformat_minor": 2
}
