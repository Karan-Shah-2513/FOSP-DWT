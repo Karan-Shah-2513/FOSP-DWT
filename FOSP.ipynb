{
  "cells": [
    {
      "cell_type": "markdown",
      "metadata": {
        "id": "sa6RZU3uAJzR"
      },
      "source": [
        "welcome to the world of wavelets"
      ]
    },
    {
      "cell_type": "code",
      "execution_count": 1,
      "metadata": {
        "id": "A0_eRr3lBCoZ"
      },
      "outputs": [],
      "source": [
        "import pywt\n",
        "import numpy as np\n",
        "import soundfile as sf\n",
        "from pywt import wavedec"
      ]
    },
    {
      "cell_type": "code",
      "execution_count": null,
      "metadata": {
        "id": "29uKFG3XBEv2"
      },
      "outputs": [],
      "source": [
        "# level = 2\n",
        "# input_file = \"/content/drive/MyDrive/SEM-6/FOSP/Paper_Mini-Project/speech.wav\"\n",
        " \n",
        "# for i in range(10):\n",
        "\n",
        "#   signal, sample_rate = sf.read(input_file)\n",
        "\n",
        "#   # Define wavelet function and level of decomposition\n",
        "#   wavelet = 'db1'\n",
        "#   # level = 1\n",
        "\n",
        "#   # Perform DWT\n",
        "#   coeffs = pywt.wavedec(signal, wavelet, level=level)\n",
        "#   # print(coeffs)\n",
        "#   # Set detail coefficients to zero\n",
        "#   zero_coeffs = [coeffs[0]] + [np.zeros_like(coeff) for coeff in coeffs[1:]]\n",
        "#   # print(zero_coeffs)\n",
        "\n",
        "#   # Reconstruct signal from wavelet coefficients with zero detail coefficients\n",
        "#   reconstructed_signal = pywt.waverec(zero_coeffs, wavelet)\n",
        "\n",
        "#   # Save reconstructed audio as .wav file\n",
        "#   output_file = f\"recon{i}.wav\"\n",
        "#   input_file = output_file\n",
        "#   sf.write(output_file, reconstructed_signal, sample_rate)"
      ]
    },
    {
      "cell_type": "code",
      "execution_count": 3,
      "metadata": {
        "colab": {
          "base_uri": "https://localhost:8080/",
          "height": 380
        },
        "id": "axSG-A56Yp5t",
        "outputId": "df61030b-fc3e-4c24-a2e4-d6d08fc73a13"
      },
      "outputs": [
        {
          "name": "stdout",
          "output_type": "stream",
          "text": [
            "Sampling rate: 48000 Hz\n",
            "Signal : [[0. 0.]\n",
            " [0. 0.]\n",
            " [0. 0.]\n",
            " ...\n",
            " [0. 0.]\n",
            " [0. 0.]\n",
            " [0. 0.]] \n",
            "Level: 5\n"
          ]
        },
        {
          "name": "stderr",
          "output_type": "stream",
          "text": [
            "/home/karan/dev/FOSP/venv/lib/python3.10/site-packages/pywt/_multilevel.py:43: UserWarning: Level value of 2 is too high: all coefficients will experience boundary effects.\n",
            "  warnings.warn(\n",
            "/home/karan/dev/FOSP/venv/lib/python3.10/site-packages/pywt/_multilevel.py:43: UserWarning: Level value of 3 is too high: all coefficients will experience boundary effects.\n",
            "  warnings.warn(\n",
            "/home/karan/dev/FOSP/venv/lib/python3.10/site-packages/pywt/_multilevel.py:43: UserWarning: Level value of 4 is too high: all coefficients will experience boundary effects.\n",
            "  warnings.warn(\n",
            "/home/karan/dev/FOSP/venv/lib/python3.10/site-packages/pywt/_multilevel.py:43: UserWarning: Level value of 5 is too high: all coefficients will experience boundary effects.\n",
            "  warnings.warn(\n"
          ]
        },
        {
          "ename": "",
          "evalue": "",
          "output_type": "error",
          "traceback": [
            "\u001b[1;31mCanceled future for execute_request message before replies were done"
          ]
        },
        {
          "ename": "",
          "evalue": "",
          "output_type": "error",
          "traceback": [
            "\u001b[1;31mThe Kernel crashed while executing code in the the current cell or a previous cell. Please review the code in the cell(s) to identify a possible cause of the failure. Click <a href='https://aka.ms/vscodeJupyterKernelCrash'>here</a> for more info. View Jupyter <a href='command:jupyter.viewOutput'>log</a> for further details."
          ]
        }
      ],
      "source": [
        "import pywt\n",
        "import numpy as np\n",
        "import soundfile as sf\n",
        "from pywt import wavedec\n",
        "noOfTimesToPerformDWT=5\n",
        "wavelet='db1'\n",
        "\n",
        "# Load the initial audio signal\n",
        "audio_file = 'speech.wav'\n",
        "\n",
        "signal, sr = sf.read(audio_file)\n",
        "print(f\"Sampling rate: {sr} Hz\")\n",
        "print (f\"Signal : {signal} \")\n",
        "\n",
        "max_level = pywt.dwt_max_level(len(signal), wavelet)\n",
        "level = min(5, max_level)  # Use up to 5 levels, or the maximum possible level\n",
        "print(f\"Level: {level}\")\n",
        "level=1\n",
        "\n",
        "# Loop for multiple iterations\n",
        "for i in range(noOfTimesToPerformDWT):\n",
        "\n",
        "    # Perform the discrete wavelet transform\n",
        "    coeffs = pywt.wavedec(signal, wavelet, level=i + 1)\n",
        "\n",
        "    # Extract the approximation and detail coefficients\n",
        "    cA = coeffs[0]\n",
        "    cD = coeffs[1:]\n",
        "\n",
        "    # Reconstruct the low-frequency and high-frequency signals\n",
        "    for j in range(len(cD)):\n",
        "        cD_flat = cD[j].ravel()  # Flatten the 2D array to 1D\n",
        "        high_freq_signal = pywt.upcoef('d', cD_flat, wavelet, level=j+1)[:len(signal)]\n",
        "        low_freq_signal = pywt.idwt(cA, None, wavelet)\n",
        "\n",
        "    # Save the low-frequency and high-frequency signals as WAV files\n",
        "    sf.write(f'low_freq_signal_{i}.wav', low_freq_signal, sr)\n",
        "    sf.write(f'high_freq_signal_{i}.wav', high_freq_signal, sr)\n",
        "\n",
        "    # Use the low-frequency signal as the input for the next iteration\n",
        "    signal = cA"
      ]
    },
    {
      "cell_type": "code",
      "execution_count": 4,
      "metadata": {
        "colab": {
          "base_uri": "https://localhost:8080/"
        },
        "id": "lbbXexgLQcZU",
        "outputId": "355e6f3c-1d0e-496f-b68d-cc8b228bba1c"
      },
      "outputs": [
        {
          "name": "stderr",
          "output_type": "stream",
          "text": [
            "/home/karan/dev/FOSP/venv/lib/python3.10/site-packages/pywt/_multilevel.py:43: UserWarning: Level value of 4 is too high: all coefficients will experience boundary effects.\n",
            "  warnings.warn(\n"
          ]
        },
        {
          "name": "stdout",
          "output_type": "stream",
          "text": [
            "cA4: [[0.]\n",
            " [0.]\n",
            " [0.]\n",
            " ...\n",
            " [0.]\n",
            " [0.]\n",
            " [0.]]\n",
            "cD2: [[0.]\n",
            " [0.]\n",
            " [0.]\n",
            " ...\n",
            " [0.]\n",
            " [0.]\n",
            " [0.]]\n",
            "cD1: [[0.]\n",
            " [0.]\n",
            " [0.]\n",
            " ...\n",
            " [0.]\n",
            " [0.]\n",
            " [0.]]\n"
          ]
        }
      ],
      "source": [
        "audio_file = 'speech.wav'\n",
        "signal, sr = sf.read(audio_file)\n",
        "coeffs = wavedec(signal, 'db1', level=4)\n",
        "cA, cD4, cD3,cD2, cD1 = coeffs\n",
        "# cA, cD = coeffs\n",
        "# print(cD)\n",
        "sf.write(f'low.wav', cA, sr)\n",
        "sf.write(f'high1.wav', cD1, sr)\n",
        "sf.write(f'high2.wav', cD2, sr)\n",
        "sf.write(f'high3.wav', cD3, sr)\n",
        "sf.write(f'high4.wav', cD4, sr)\n",
        "print(\"cA4:\",cA)\n",
        "print(\"cD2:\",cD2)\n",
        "print(\"cD1:\",cD1)\n",
        "# for x in cD1:\n",
        "#   print(f\"{x[0]:0,.6f}\")"
      ]
    },
    {
      "cell_type": "code",
      "execution_count": 5,
      "metadata": {},
      "outputs": [],
      "source": [
        "speech=pywt.waverec(coeffs, 'db1')\n",
        "sf.write('opspeech.wav',speech,sr)"
      ]
    },
    {
      "cell_type": "code",
      "execution_count": 5,
      "metadata": {
        "colab": {
          "base_uri": "https://localhost:8080/",
          "height": 489
        },
        "id": "7b_wygGpBE1A",
        "outputId": "f6fb1a5d-b601-4ed9-a38e-6781341b0f70"
      },
      "outputs": [
        {
          "ename": "",
          "evalue": "",
          "output_type": "error",
          "traceback": [
            "\u001b[1;31mCanceled future for execute_request message before replies were done"
          ]
        },
        {
          "ename": "",
          "evalue": "",
          "output_type": "error",
          "traceback": [
            "\u001b[1;31mThe Kernel crashed while executing code in the the current cell or a previous cell. Please review the code in the cell(s) to identify a possible cause of the failure. Click <a href='https://aka.ms/vscodeJupyterKernelCrash'>here</a> for more info. View Jupyter <a href='command:jupyter.viewOutput'>log</a> for further details."
          ]
        }
      ],
      "source": [
        "import matplotlib.pyplot as plt\n",
        "\n",
        "# Read in two audio files\n",
        "file1 = 'opspeech.wav'\n",
        "file2 = 'speech.wav'\n",
        "signal1, sr1 = sf.read(file1)\n",
        "signal2, sr2 = sf.read(file2)\n",
        "\n",
        "# Compute the RMS error between the two signals\n",
        "error = np.sqrt(np.mean((signal1 - signal2)**2))\n",
        "\n",
        "# Display a plot comparing the two signals\n",
        "t1 = np.arange(0, len(signal1)/sr1, 1/sr1)\n",
        "t2 = np.arange(0, len(signal2)/sr2, 1/sr2)\n",
        "plt.subplot(2, 1, 1)\n",
        "plt.plot(t1, signal1)\n",
        "plt.title('Signal 1')\n",
        "plt.xlabel('Time (s)')\n",
        "plt.ylabel('Amplitude')\n",
        "plt.subplot(2, 1, 2)\n",
        "plt.plot(t2, signal2)\n",
        "plt.title('Signal 2')\n",
        "plt.xlabel('Time (s)')\n",
        "plt.ylabel('Amplitude')\n",
        "plt.show()\n",
        "\n",
        "# Print the RMS error\n",
        "print('RMS Error:', error)"
      ]
    },
    {
      "cell_type": "code",
      "execution_count": 16,
      "metadata": {
        "colab": {
          "base_uri": "https://localhost:8080/",
          "height": 489
        },
        "id": "nYUirL1wBE3Y",
        "outputId": "ff49fcb8-2304-4d98-955f-ce9bb0919067"
      },
      "outputs": [
        {
          "ename": "ValueError",
          "evalue": "x and y must have same first dimension, but have shapes (12175186,) and (12175185, 1)",
          "output_type": "error",
          "traceback": [
            "\u001b[0;31m---------------------------------------------------------------------------\u001b[0m",
            "\u001b[0;31mValueError\u001b[0m                                Traceback (most recent call last)",
            "Cell \u001b[0;32mIn[16], line 31\u001b[0m\n\u001b[1;32m     29\u001b[0m t2 \u001b[39m=\u001b[39m np\u001b[39m.\u001b[39marange(\u001b[39m0\u001b[39m, \u001b[39mlen\u001b[39m(signal2)\u001b[39m/\u001b[39msr2, \u001b[39m1\u001b[39m\u001b[39m/\u001b[39msr2)\n\u001b[1;32m     30\u001b[0m plt\u001b[39m.\u001b[39msubplot(\u001b[39m2\u001b[39m, \u001b[39m1\u001b[39m, \u001b[39m1\u001b[39m)\n\u001b[0;32m---> 31\u001b[0m plt\u001b[39m.\u001b[39;49mplot(t1, signal1)\n\u001b[1;32m     32\u001b[0m plt\u001b[39m.\u001b[39mtitle(\u001b[39m'\u001b[39m\u001b[39mSignal 1\u001b[39m\u001b[39m'\u001b[39m)\n\u001b[1;32m     33\u001b[0m plt\u001b[39m.\u001b[39mxlabel(\u001b[39m'\u001b[39m\u001b[39mTime (s)\u001b[39m\u001b[39m'\u001b[39m)\n",
            "File \u001b[0;32m~/dev/FOSP/venv/lib/python3.10/site-packages/matplotlib/pyplot.py:2812\u001b[0m, in \u001b[0;36mplot\u001b[0;34m(scalex, scaley, data, *args, **kwargs)\u001b[0m\n\u001b[1;32m   2810\u001b[0m \u001b[39m@_copy_docstring_and_deprecators\u001b[39m(Axes\u001b[39m.\u001b[39mplot)\n\u001b[1;32m   2811\u001b[0m \u001b[39mdef\u001b[39;00m \u001b[39mplot\u001b[39m(\u001b[39m*\u001b[39margs, scalex\u001b[39m=\u001b[39m\u001b[39mTrue\u001b[39;00m, scaley\u001b[39m=\u001b[39m\u001b[39mTrue\u001b[39;00m, data\u001b[39m=\u001b[39m\u001b[39mNone\u001b[39;00m, \u001b[39m*\u001b[39m\u001b[39m*\u001b[39mkwargs):\n\u001b[0;32m-> 2812\u001b[0m     \u001b[39mreturn\u001b[39;00m gca()\u001b[39m.\u001b[39;49mplot(\n\u001b[1;32m   2813\u001b[0m         \u001b[39m*\u001b[39;49margs, scalex\u001b[39m=\u001b[39;49mscalex, scaley\u001b[39m=\u001b[39;49mscaley,\n\u001b[1;32m   2814\u001b[0m         \u001b[39m*\u001b[39;49m\u001b[39m*\u001b[39;49m({\u001b[39m\"\u001b[39;49m\u001b[39mdata\u001b[39;49m\u001b[39m\"\u001b[39;49m: data} \u001b[39mif\u001b[39;49;00m data \u001b[39mis\u001b[39;49;00m \u001b[39mnot\u001b[39;49;00m \u001b[39mNone\u001b[39;49;00m \u001b[39melse\u001b[39;49;00m {}), \u001b[39m*\u001b[39;49m\u001b[39m*\u001b[39;49mkwargs)\n",
            "File \u001b[0;32m~/dev/FOSP/venv/lib/python3.10/site-packages/matplotlib/axes/_axes.py:1688\u001b[0m, in \u001b[0;36mAxes.plot\u001b[0;34m(self, scalex, scaley, data, *args, **kwargs)\u001b[0m\n\u001b[1;32m   1445\u001b[0m \u001b[39m\u001b[39m\u001b[39m\"\"\"\u001b[39;00m\n\u001b[1;32m   1446\u001b[0m \u001b[39mPlot y versus x as lines and/or markers.\u001b[39;00m\n\u001b[1;32m   1447\u001b[0m \n\u001b[0;32m   (...)\u001b[0m\n\u001b[1;32m   1685\u001b[0m \u001b[39m(``'green'``) or hex strings (``'#008000'``).\u001b[39;00m\n\u001b[1;32m   1686\u001b[0m \u001b[39m\"\"\"\u001b[39;00m\n\u001b[1;32m   1687\u001b[0m kwargs \u001b[39m=\u001b[39m cbook\u001b[39m.\u001b[39mnormalize_kwargs(kwargs, mlines\u001b[39m.\u001b[39mLine2D)\n\u001b[0;32m-> 1688\u001b[0m lines \u001b[39m=\u001b[39m [\u001b[39m*\u001b[39m\u001b[39mself\u001b[39m\u001b[39m.\u001b[39m_get_lines(\u001b[39m*\u001b[39margs, data\u001b[39m=\u001b[39mdata, \u001b[39m*\u001b[39m\u001b[39m*\u001b[39mkwargs)]\n\u001b[1;32m   1689\u001b[0m \u001b[39mfor\u001b[39;00m line \u001b[39min\u001b[39;00m lines:\n\u001b[1;32m   1690\u001b[0m     \u001b[39mself\u001b[39m\u001b[39m.\u001b[39madd_line(line)\n",
            "File \u001b[0;32m~/dev/FOSP/venv/lib/python3.10/site-packages/matplotlib/axes/_base.py:311\u001b[0m, in \u001b[0;36m_process_plot_var_args.__call__\u001b[0;34m(self, data, *args, **kwargs)\u001b[0m\n\u001b[1;32m    309\u001b[0m     this \u001b[39m+\u001b[39m\u001b[39m=\u001b[39m args[\u001b[39m0\u001b[39m],\n\u001b[1;32m    310\u001b[0m     args \u001b[39m=\u001b[39m args[\u001b[39m1\u001b[39m:]\n\u001b[0;32m--> 311\u001b[0m \u001b[39myield from\u001b[39;00m \u001b[39mself\u001b[39;49m\u001b[39m.\u001b[39;49m_plot_args(\n\u001b[1;32m    312\u001b[0m     this, kwargs, ambiguous_fmt_datakey\u001b[39m=\u001b[39;49mambiguous_fmt_datakey)\n",
            "File \u001b[0;32m~/dev/FOSP/venv/lib/python3.10/site-packages/matplotlib/axes/_base.py:504\u001b[0m, in \u001b[0;36m_process_plot_var_args._plot_args\u001b[0;34m(self, tup, kwargs, return_kwargs, ambiguous_fmt_datakey)\u001b[0m\n\u001b[1;32m    501\u001b[0m     \u001b[39mself\u001b[39m\u001b[39m.\u001b[39maxes\u001b[39m.\u001b[39myaxis\u001b[39m.\u001b[39mupdate_units(y)\n\u001b[1;32m    503\u001b[0m \u001b[39mif\u001b[39;00m x\u001b[39m.\u001b[39mshape[\u001b[39m0\u001b[39m] \u001b[39m!=\u001b[39m y\u001b[39m.\u001b[39mshape[\u001b[39m0\u001b[39m]:\n\u001b[0;32m--> 504\u001b[0m     \u001b[39mraise\u001b[39;00m \u001b[39mValueError\u001b[39;00m(\u001b[39mf\u001b[39m\u001b[39m\"\u001b[39m\u001b[39mx and y must have same first dimension, but \u001b[39m\u001b[39m\"\u001b[39m\n\u001b[1;32m    505\u001b[0m                      \u001b[39mf\u001b[39m\u001b[39m\"\u001b[39m\u001b[39mhave shapes \u001b[39m\u001b[39m{\u001b[39;00mx\u001b[39m.\u001b[39mshape\u001b[39m}\u001b[39;00m\u001b[39m and \u001b[39m\u001b[39m{\u001b[39;00my\u001b[39m.\u001b[39mshape\u001b[39m}\u001b[39;00m\u001b[39m\"\u001b[39m)\n\u001b[1;32m    506\u001b[0m \u001b[39mif\u001b[39;00m x\u001b[39m.\u001b[39mndim \u001b[39m>\u001b[39m \u001b[39m2\u001b[39m \u001b[39mor\u001b[39;00m y\u001b[39m.\u001b[39mndim \u001b[39m>\u001b[39m \u001b[39m2\u001b[39m:\n\u001b[1;32m    507\u001b[0m     \u001b[39mraise\u001b[39;00m \u001b[39mValueError\u001b[39;00m(\u001b[39mf\u001b[39m\u001b[39m\"\u001b[39m\u001b[39mx and y can be no greater than 2D, but have \u001b[39m\u001b[39m\"\u001b[39m\n\u001b[1;32m    508\u001b[0m                      \u001b[39mf\u001b[39m\u001b[39m\"\u001b[39m\u001b[39mshapes \u001b[39m\u001b[39m{\u001b[39;00mx\u001b[39m.\u001b[39mshape\u001b[39m}\u001b[39;00m\u001b[39m and \u001b[39m\u001b[39m{\u001b[39;00my\u001b[39m.\u001b[39mshape\u001b[39m}\u001b[39;00m\u001b[39m\"\u001b[39m)\n",
            "\u001b[0;31mValueError\u001b[0m: x and y must have same first dimension, but have shapes (12175186,) and (12175185, 1)"
          ]
        },
        {
          "data": {
            "image/png": "[encoded data removed]",
            "text/plain": [
              "<Figure size 640x480 with 1 Axes>"
            ]
          },
          "metadata": {},
          "output_type": "display_data"
        }
      ],
      "source": [
        "import matplotlib.pyplot as plt\n",
        "\n",
        "# Read in two audio files\n",
        "# file1 = '/content/drive/MyDrive/SEM-6/FOSP/Paper_Mini-Project/speech.wav'\n",
        "# file1 = '/content/low_freq_signal_2.wav'\n",
        "# file2 = '/content/low_freq_signal_3.wav'\n",
        "# signal1, sr1 = sf.read(file1)\n",
        "# signal2, sr2 = sf.read(file2)\n",
        "\n",
        "sr1=44100\n",
        "sr2=44100\n",
        "\n",
        "signal1=np.array(cD1)\n",
        "\n",
        "# signal1=cD1\n",
        "signal2=np.array(cD2)\n",
        "\n",
        "if len(signal1) > len(signal2):\n",
        "    signal2 = np.resize(signal2, signal1.shape)\n",
        "else:\n",
        "    signal1 = np.resize(signal1, signal2.shape)\n",
        "\n",
        "\n",
        "# Compute the RMS error between the two signals\n",
        "error = np.sqrt(np.mean((signal1 - signal2)**2))\n",
        "\n",
        "# Display a plot comparing the two signals\n",
        "t1 = np.arange(0, len(signal1)/sr1, 1/sr1)\n",
        "t2 = np.arange(0, len(signal2)/sr2, 1/sr2)\n",
        "plt.subplot(2, 1, 1)\n",
        "plt.plot(t1, signal1)\n",
        "plt.title('Signal 1')\n",
        "plt.xlabel('Time (s)')\n",
        "plt.ylabel('Amplitude')\n",
        "plt.subplot(2, 1, 2)\n",
        "plt.plot(t2, signal2)\n",
        "plt.title('Signal 2')\n",
        "plt.xlabel('Time (s)')\n",
        "plt.ylabel('Amplitude')\n",
        "plt.show()\n",
        "\n",
        "# Print the RMS error\n",
        "print('RMS Error:', error)"
      ]
    },
    {
      "cell_type": "markdown",
      "metadata": {
        "id": "acg9gKsVrIh4"
      },
      "source": [
        "Huffman Begins"
      ]
    },
    {
      "cell_type": "code",
      "execution_count": null,
      "metadata": {
        "id": "dSmTlETDrIED"
      },
      "outputs": [],
      "source": [
        "import heapq\n",
        "import os\n",
        "\n",
        "class HuffmanCoding:\n",
        "\n",
        "    def __init__(self, path):\n",
        "        self.path = path\n",
        "        self.heap = []\n",
        "        self.codes = {}\n",
        "        self.reverse_mapping = {}\n",
        "\n",
        "    class HeapNode:\n",
        "        def __init__(self, char, freq):\n",
        "            self.char = char\n",
        "            self.freq = freq\n",
        "            self.left = None\n",
        "            self.right = None\n",
        "\n",
        "        def __lt__(self, other):\n",
        "            return self.freq < other.freq\n",
        "\n",
        "        def __eq__(self, other):\n",
        "            if(other == None):\n",
        "                return False\n",
        "            if(not isinstance(other, HeapNode)):\n",
        "                return False\n",
        "            return self.freq == other.freq\n",
        "\n",
        "    # functions for compression:\n",
        "\n",
        "    def make_frequency_dict(self, text):\n",
        "        frequency = {}\n",
        "        for character in text:\n",
        "            if not character in frequency:\n",
        "                frequency[character] = 0\n",
        "            frequency[character] += 1\n",
        "        return frequency\n",
        "\n",
        "    def make_heap(self, frequency):\n",
        "        for key in frequency:\n",
        "            node = self.HeapNode(key, frequency[key])\n",
        "            heapq.heappush(self.heap, node)\n",
        "\n",
        "    def merge_nodes(self):\n",
        "        while(len(self.heap)>1):\n",
        "            node1 = heapq.heappop(self.heap)\n",
        "            node2 = heapq.heappop(self.heap)\n",
        "\n",
        "            merged = self.HeapNode(None, node1.freq + node2.freq)\n",
        "            merged.left = node1\n",
        "            merged.right = node2\n",
        "\n",
        "            heapq.heappush(self.heap, merged)\n",
        "\n",
        "    def make_codes_helper(self, root, current_code):\n",
        "        if(root == None):\n",
        "            return\n",
        "\n",
        "        if(root.char != None):\n",
        "            self.codes[root.char] = current_code\n",
        "            self.reverse_mapping[current_code] = root.char\n",
        "            return\n",
        "\n",
        "        self.make_codes_helper(root.left, current_code + \"0\")\n",
        "        self.make_codes_helper(root.right, current_code + \"1\")\n",
        "\n",
        "    def make_codes(self):\n",
        "        root = heapq.heappop(self.heap)\n",
        "        current_code = \"\"\n",
        "        self.make_codes_helper(root, current_code)\n",
        "\n",
        "    def get_encoded_text(self, text):\n",
        "        encoded_text = \"\"\n",
        "        for character in text:\n",
        "            encoded_text += self.codes[character]\n",
        "        return encoded_text\n",
        "\n",
        "    def pad_encoded_text(self, encoded_text):\n",
        "        extra_padding = 8 - len(encoded_text) % 8\n",
        "        for i in range(extra_padding):\n",
        "            encoded_text += \"0\"\n",
        "\n",
        "        padded_info = \"{0:08b}\".format(extra_padding)\n",
        "        encoded_text = padded_info + encoded_text\n",
        "        return encoded_text\n",
        "\n",
        "    def get_byte_array(self, padded_encoded_text):\n",
        "        if(len(padded_encoded_text) % 8 != 0):\n",
        "            print(\"Encoded text not padded properly\")\n",
        "            exit(0)\n",
        "\n",
        "        b = bytearray()\n",
        "        for i in range(0, len(padded_encoded_text), 8):\n",
        "            byte = padded_encoded_text[i:i+8]\n",
        "            b.append(int(byte, 2))\n",
        "        return b\n",
        "\n",
        "    def compress(self):\n",
        "        filename, file_extension = os.path.splitext(self.path)\n",
        "        output_path = filename + \".bin\"\n",
        "\n",
        "        with open(self.path, 'r+') as file, open(output_path, 'wb') as output:\n",
        "            text = file.read()\n",
        "            text = text.rstrip()\n",
        "\n",
        "            frequency = self.make_frequency_dict(text)\n",
        "            self.make_heap(frequency)\n",
        "            self.merge_nodes()\n",
        "            self.make_codes()\n",
        "\n",
        "            encoded_text = self.get_encoded_text(text)\n",
        "            padded_encoded_text = self.pad_encoded_text(encoded_text)\n",
        "\n",
        "            b = self.get_byte_array(padded_encoded_text)\n",
        "            output.write(bytes(b))\n",
        "\n",
        "        print(\"Compressed\")\n",
        "        return output_path\n",
        "\n",
        "    # functions for decompression\n",
        "    def decompress(input_file, output_file):\n",
        "      # Read the encoded binary file\n",
        "      with open(input_file, 'rb') as f:\n",
        "          encoded_data = f.read()\n",
        "\n",
        "      # Convert the bytes to bits\n",
        "      encoded_bits = ''.join(format(byte, '08b') for byte in encoded_data)\n",
        "\n",
        "      # Read the frequency table from the encoded file\n",
        "      freq_table_len = int(encoded_bits[:32], 2)\n",
        "      freq_table_bits = encoded_bits[32:32+freq_table_len]\n",
        "      freq_table = huffman.freq_table_from_bits(freq_table_bits)\n",
        "\n",
        "      # Decode the rest of the bits using the frequency table\n",
        "      decoded_bits = huffman.decode_bits(encoded_bits[32+freq_table_len:], freq_table)\n",
        "\n",
        "      # Convert the decoded bits to bytes\n",
        "      decoded_bytes = bytearray(int(decoded_bits[i:i+8], 2) for i in range(0, len(decoded_bits), 8))\n",
        "\n",
        "      # Write the decoded bytes to the output file\n",
        "      with open(output_file, 'wb') as f:\n",
        "          f.write(decoded_bytes)\n"
      ]
    },
    {
      "cell_type": "code",
      "execution_count": null,
      "metadata": {
        "id": "lQAlco8zsWWF"
      },
      "outputs": [],
      "source": [
        "import huffman\n",
        "import struct\n",
        "\n",
        "def compress_audio_huffman(input_file, output_file):\n",
        "    # Read the input audio file\n",
        "    with open(input_file, 'rb') as f:\n",
        "        audio_data = f.read()\n",
        "\n",
        "    # Convert the audio data to a list of integers (16-bit samples)\n",
        "    audio_samples = struct.unpack('<' + 'h'*int(len(audio_data)/2), audio_data)\n",
        "\n",
        "    # Count the frequency of each sample value\n",
        "    freq_table = {}\n",
        "    for sample in audio_samples:\n",
        "        if sample not in freq_table:\n",
        "            freq_table[sample] = 1\n",
        "        else:\n",
        "            freq_table[sample] += 1\n",
        "\n",
        "    # Build the Huffman code from the frequency table\n",
        "    code_table = huffman.code_table_from_freq(freq_table)\n",
        "\n",
        "    # Convert the audio samples to a string of bits using the Huffman code\n",
        "    encoded_bits = ''.join(code_table[sample] for sample in audio_samples)\n",
        "\n",
        "    # Convert the bit string to bytes (8 bits per byte)\n",
        "    encoded_bytes = bytearray(int(encoded_bits[i:i+8], 2) for i in range(0, len(encoded_bits), 8))\n",
        "\n",
        "    # Write the frequency table and encoded data to the output file\n",
        "    with open(output_file, 'wb') as f:\n",
        "        # Write the length of the frequency table as a 32-bit integer\n",
        "        f.write(struct.pack('I', len(freq_table)))\n",
        "\n",
        "        # Write the frequency table as a sequence of bits\n",
        "        freq_table_bits = huffman.freq_table_to_bits(freq_table)\n",
        "        f.write(freq_table_bits)\n",
        "\n",
        "        # Write the encoded data as bytes\n",
        "        f.write(encoded_bytes)\n"
      ]
    },
    {
      "cell_type": "code",
      "execution_count": null,
      "metadata": {
        "colab": {
          "base_uri": "https://localhost:8080/",
          "height": 380
        },
        "id": "vkIU48gJtKZ7",
        "outputId": "8d3b4663-9aad-413b-ba17-901baa5cd305"
      },
      "outputs": [
        {
          "ename": "TypeError",
          "evalue": "ignored",
          "output_type": "error",
          "traceback": [
            "\u001b[0;31m---------------------------------------------------------------------------\u001b[0m",
            "\u001b[0;31mTypeError\u001b[0m                                 Traceback (most recent call last)",
            "\u001b[0;32m<ipython-input-10-d85f7e306309>\u001b[0m in \u001b[0;36m<cell line: 16>\u001b[0;34m()\u001b[0m\n\u001b[1;32m     14\u001b[0m \u001b[0;34m\u001b[0m\u001b[0m\n\u001b[1;32m     15\u001b[0m \u001b[0;31m# generate Huffman codebook\u001b[0m\u001b[0;34m\u001b[0m\u001b[0;34m\u001b[0m\u001b[0m\n\u001b[0;32m---> 16\u001b[0;31m \u001b[0mcodebook\u001b[0m \u001b[0;34m=\u001b[0m \u001b[0mhuffman\u001b[0m\u001b[0;34m.\u001b[0m\u001b[0mcodebook\u001b[0m\u001b[0;34m(\u001b[0m\u001b[0mhuffman\u001b[0m\u001b[0;34m.\u001b[0m\u001b[0mTree\u001b[0m\u001b[0;34m(\u001b[0m\u001b[0mzip\u001b[0m\u001b[0;34m(\u001b[0m\u001b[0mbins\u001b[0m\u001b[0;34m.\u001b[0m\u001b[0mastype\u001b[0m\u001b[0;34m(\u001b[0m\u001b[0mstr\u001b[0m\u001b[0;34m)\u001b[0m\u001b[0;34m,\u001b[0m \u001b[0mhist\u001b[0m\u001b[0;34m)\u001b[0m\u001b[0;34m)\u001b[0m\u001b[0;34m)\u001b[0m\u001b[0;34m\u001b[0m\u001b[0;34m\u001b[0m\u001b[0m\n\u001b[0m\u001b[1;32m     17\u001b[0m \u001b[0;34m\u001b[0m\u001b[0m\n\u001b[1;32m     18\u001b[0m \u001b[0;31m# encode audio using Huffman codebook\u001b[0m\u001b[0;34m\u001b[0m\u001b[0;34m\u001b[0m\u001b[0m\n",
            "\u001b[0;32m/usr/local/lib/python3.9/dist-packages/huffman/huffman.py\u001b[0m in \u001b[0;36mcodebook\u001b[0;34m(symbolweights)\u001b[0m\n\u001b[1;32m     76\u001b[0m      't': '0111'}\n\u001b[1;32m     77\u001b[0m     '''\n\u001b[0;32m---> 78\u001b[0;31m     \u001b[0;32mreturn\u001b[0m \u001b[0mTree\u001b[0m\u001b[0;34m(\u001b[0m\u001b[0msymbolweights\u001b[0m\u001b[0;34m)\u001b[0m\u001b[0;34m.\u001b[0m\u001b[0mcodebook\u001b[0m\u001b[0;34m\u001b[0m\u001b[0;34m\u001b[0m\u001b[0m\n\u001b[0m",
            "\u001b[0;32m/usr/local/lib/python3.9/dist-packages/huffman/huffman.py\u001b[0m in \u001b[0;36m__init__\u001b[0;34m(self, symbolweights)\u001b[0m\n\u001b[1;32m     45\u001b[0m \u001b[0;32mclass\u001b[0m \u001b[0mTree\u001b[0m\u001b[0;34m(\u001b[0m\u001b[0mobject\u001b[0m\u001b[0;34m)\u001b[0m\u001b[0;34m:\u001b[0m\u001b[0;34m\u001b[0m\u001b[0;34m\u001b[0m\u001b[0m\n\u001b[1;32m     46\u001b[0m     \u001b[0;32mdef\u001b[0m \u001b[0m__init__\u001b[0m\u001b[0;34m(\u001b[0m\u001b[0mself\u001b[0m\u001b[0;34m,\u001b[0m \u001b[0msymbolweights\u001b[0m\u001b[0;34m)\u001b[0m\u001b[0;34m:\u001b[0m\u001b[0;34m\u001b[0m\u001b[0;34m\u001b[0m\u001b[0m\n\u001b[0;32m---> 47\u001b[0;31m         \u001b[0mleaves\u001b[0m \u001b[0;34m=\u001b[0m \u001b[0;34m[\u001b[0m\u001b[0mLeaf\u001b[0m\u001b[0;34m(\u001b[0m\u001b[0;34m*\u001b[0m\u001b[0msw\u001b[0m\u001b[0;34m)\u001b[0m \u001b[0;32mfor\u001b[0m \u001b[0msw\u001b[0m \u001b[0;32min\u001b[0m \u001b[0msymbolweights\u001b[0m\u001b[0;34m]\u001b[0m\u001b[0;34m\u001b[0m\u001b[0;34m\u001b[0m\u001b[0m\n\u001b[0m\u001b[1;32m     48\u001b[0m         \u001b[0mheap\u001b[0m \u001b[0;34m=\u001b[0m \u001b[0mHeap\u001b[0m\u001b[0;34m(\u001b[0m\u001b[0mleaves\u001b[0m\u001b[0;34m[\u001b[0m\u001b[0;34m:\u001b[0m\u001b[0;34m]\u001b[0m\u001b[0;34m)\u001b[0m\u001b[0;34m\u001b[0m\u001b[0;34m\u001b[0m\u001b[0m\n\u001b[1;32m     49\u001b[0m \u001b[0;34m\u001b[0m\u001b[0m\n",
            "\u001b[0;31mTypeError\u001b[0m: 'Tree' object is not iterable"
          ]
        }
      ],
      "source": [
        "import numpy as np\n",
        "import scipy.io.wavfile as wav\n",
        "import huffman\n",
        "\n",
        "# read audio file\n",
        "fs, audio = wav.read(\"/content/drive/MyDrive/SEM-6/FOSP/Paper_Mini-Project/speech.wav\")\n",
        "\n",
        "# calculate histogram\n",
        "hist, bins = np.histogram(audio, bins=2**16)\n",
        "hist = hist.astype(float)\n",
        "\n",
        "# normalize histogram\n",
        "hist /= hist.sum()\n",
        "\n",
        "# generate Huffman codebook\n",
        "codebook = huffman.codebook(huffman.Tree(zip(bins.astype(str), hist)))\n",
        "\n",
        "# encode audio using Huffman codebook\n",
        "encoded_audio = np.array([codebook[str(sample)] for sample in audio])\n",
        "\n",
        "# save encoded audio to file\n",
        "np.save(\"encoded_audio.npy\", encoded_audio)\n",
        "\n",
        "# save Huffman codebook to file\n",
        "with open(\"huffman_codebook.pkl\", \"wb\") as f:\n",
        "    huffman.dump(codebook, f)"
      ]
    }
  ],
  "metadata": {
    "colab": {
      "provenance": []
    },
    "gpuClass": "standard",
    "kernelspec": {
      "display_name": "Python 3",
      "name": "python3"
    },
    "language_info": {
      "codemirror_mode": {
        "name": "ipython",
        "version": 3
      },
      "file_extension": ".py",
      "mimetype": "text/x-python",
      "name": "python",
      "nbconvert_exporter": "python",
      "pygments_lexer": "ipython3",
      "version": "3.10.6"
    }
  },
  "nbformat": 4,
  "nbformat_minor": 0
}
