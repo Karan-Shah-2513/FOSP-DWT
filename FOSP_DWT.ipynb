{
  "cells": [
    {
      "cell_type": "code",
      "execution_count": 83,
      "metadata": {
        "colab": {
          "base_uri": "https://localhost:8080/"
        },
        "id": "XSeaPi5qlxfH",
        "outputId": "5ac290d8-1c34-45b2-fc4a-2e0a2fe98a46"
      },
      "outputs": [
        {
          "name": "stdout",
          "output_type": "stream",
          "text": [
            "Requirement already satisfied: PyWavelets in ./venv/lib/python3.10/site-packages (1.4.1)\n",
            "Requirement already satisfied: numpy>=1.17.3 in ./venv/lib/python3.10/site-packages (from PyWavelets) (1.24.2)\n",
            "\n",
            "\u001b[1m[\u001b[0m\u001b[34;49mnotice\u001b[0m\u001b[1;39;49m]\u001b[0m\u001b[39;49m A new release of pip is available: \u001b[0m\u001b[31;49m23.1.1\u001b[0m\u001b[39;49m -> \u001b[0m\u001b[32;49m23.1.2\u001b[0m\n",
            "\u001b[1m[\u001b[0m\u001b[34;49mnotice\u001b[0m\u001b[1;39;49m]\u001b[0m\u001b[39;49m To update, run: \u001b[0m\u001b[32;49mpip install --upgrade pip\u001b[0m\n",
            "Note: you may need to restart the kernel to use updated packages.\n",
            "Requirement already satisfied: ffmpeg-python in ./venv/lib/python3.10/site-packages (0.2.0)\n",
            "Requirement already satisfied: future in ./venv/lib/python3.10/site-packages (from ffmpeg-python) (0.18.3)\n",
            "\n",
            "\u001b[1m[\u001b[0m\u001b[34;49mnotice\u001b[0m\u001b[1;39;49m]\u001b[0m\u001b[39;49m A new release of pip is available: \u001b[0m\u001b[31;49m23.1.1\u001b[0m\u001b[39;49m -> \u001b[0m\u001b[32;49m23.1.2\u001b[0m\n",
            "\u001b[1m[\u001b[0m\u001b[34;49mnotice\u001b[0m\u001b[1;39;49m]\u001b[0m\u001b[39;49m To update, run: \u001b[0m\u001b[32;49mpip install --upgrade pip\u001b[0m\n",
            "Note: you may need to restart the kernel to use updated packages.\n"
          ]
        }
      ],
      "source": [
        "%pip install PyWavelets\n",
        "%pip install ffmpeg-python"
      ]
    },
    {
      "cell_type": "code",
      "execution_count": 84,
      "metadata": {
        "id": "1oS9647hbpU6"
      },
      "outputs": [],
      "source": [
        "# import pywt\n",
        "import numpy as np\n",
        "import soundfile as sf\n",
        "from pywt import dwt,idwt"
      ]
    },
    {
      "cell_type": "code",
      "execution_count": 85,
      "metadata": {
        "colab": {
          "base_uri": "https://localhost:8080/"
        },
        "id": "8ftdcGNsu-qk",
        "outputId": "11783eba-fd72-40e4-cbf5-4a940fc2f608"
      },
      "outputs": [],
      "source": [
        "# audio_file = 'og.wav'\n",
        "# signal, sr = sf.read(audio_file)\n",
        "# coeffs = dwt(signal, 'db4')\n",
        "# cA,cD=coeffs\n",
        "# low=idwt(cA,None,'db4')\n",
        "# low=idwt(cA,None,'db4')\n",
        "# sf.write('low1.wav',low,sr)"
      ]
    },
    {
      "cell_type": "code",
      "execution_count": 86,
      "metadata": {
        "id": "tIx4K2X_wRms"
      },
      "outputs": [],
      "source": [
        "audio_file = 'og.wav'\n",
        "signal, sr = sf.read(audio_file)\n",
        "for i in range (1,4):\n",
        "    (cA,cD)=dwt(signal,'db4')\n",
        "    low=idwt(cA,None,'db4')\n",
        "    high=idwt(None,cD,'db4')\n",
        "    fileNameLow=f'low{i}.wav'\n",
        "    fileNameHigh=f'high{i}.wav'\n",
        "    # sf.write(fileNameLow,low,sr)\n",
        "    sf.write(fileNameHigh,high,sr)\n",
        "    signal = low\n",
        "sf.write('low.wav',low,sr)"
      ]
    },
    {
      "cell_type": "code",
      "execution_count": 87,
      "metadata": {},
      "outputs": [
        {
          "name": "stdout",
          "output_type": "stream",
          "text": [
            "Requirement already satisfied: Wave in ./venv/lib/python3.10/site-packages (0.0.2)\n",
            "\n",
            "\u001b[1m[\u001b[0m\u001b[34;49mnotice\u001b[0m\u001b[1;39;49m]\u001b[0m\u001b[39;49m A new release of pip is available: \u001b[0m\u001b[31;49m23.1.1\u001b[0m\u001b[39;49m -> \u001b[0m\u001b[32;49m23.1.2\u001b[0m\n",
            "\u001b[1m[\u001b[0m\u001b[34;49mnotice\u001b[0m\u001b[1;39;49m]\u001b[0m\u001b[39;49m To update, run: \u001b[0m\u001b[32;49mpip install --upgrade pip\u001b[0m\n",
            "Note: you may need to restart the kernel to use updated packages.\n"
          ]
        }
      ],
      "source": [
        "%pip install Wave"
      ]
    },
    {
      "attachments": {},
      "cell_type": "markdown",
      "metadata": {},
      "source": [
        "# Combine the High freq files"
      ]
    },
    {
      "cell_type": "code",
      "execution_count": 88,
      "metadata": {},
      "outputs": [],
      "source": [
        "import wave\n",
        "\n",
        "# List of input WAV file names\n",
        "input_files = [\"high1.wav\", \"high2.wav\", \"high3.wav\"]\n",
        "\n",
        "# Open the input WAV files and get the audio parameters\n",
        "params = None\n",
        "input_data = []\n",
        "for input_file in input_files:\n",
        "    file = wave.open(input_file, \"rb\")\n",
        "    input_data.append(file.readframes(file.getnframes()))\n",
        "    if params is None:\n",
        "        params = file.getparams()\n",
        "    file.close()\n",
        "\n",
        "# Create a new WAV file for the output\n",
        "output_file = wave.open(\"output_combined.wav\", \"wb\")\n",
        "output_file.setparams(params)\n",
        "\n",
        "# Write the audio data from each input file to the output file\n",
        "for data in input_data:\n",
        "    output_file.writeframes(data)\n",
        "\n",
        "# Close the input and output files\n",
        "output_file.close()"
      ]
    },
    {
      "attachments": {},
      "cell_type": "markdown",
      "metadata": {},
      "source": [
        "# Convert to mp3 lossy compression"
      ]
    },
    {
      "cell_type": "code",
      "execution_count": 89,
      "metadata": {},
      "outputs": [
        {
          "data": {
            "text/plain": [
              "<_io.BufferedRandom name='mp3-output.mp3'>"
            ]
          },
          "execution_count": 89,
          "metadata": {},
          "output_type": "execute_result"
        }
      ],
      "source": [
        "from pydub import AudioSegment\n",
        "\n",
        "# Load the WAV audio signal\n",
        "audio = AudioSegment.from_wav(\"output_combined.wav\")\n",
        "\n",
        "# Compress the audio signal to MP3 format with a bit rate of 128 kbps\n",
        "audio.export(\"mp3-output.mp3\", format=\"mp3\", bitrate=\"128k\")"
      ]
    },
    {
      "attachments": {},
      "cell_type": "markdown",
      "metadata": {},
      "source": [
        "# Convert low freq to lossless compression"
      ]
    },
    {
      "cell_type": "code",
      "execution_count": 90,
      "metadata": {},
      "outputs": [],
      "source": [
        "# %pip install zlib"
      ]
    },
    {
      "cell_type": "code",
      "execution_count": 91,
      "metadata": {},
      "outputs": [],
      "source": [
        "import wave\n",
        "import zlib\n",
        "\n",
        "# Open the original WAV file\n",
        "with wave.open('low.wav', 'rb') as wav_file:\n",
        "    # Read the data from the WAV file\n",
        "    nchannels = wav_file.getnchannels()\n",
        "    sampwidth = wav_file.getsampwidth()\n",
        "    framerate = wav_file.getframerate()\n",
        "    wav_data = wav_file.readframes(wav_file.getnframes())\n",
        "\n",
        "# Compress the data using zlib\n",
        "compressed_data = zlib.compress(wav_data)\n",
        "\n",
        "# Write the compressed data to a file\n",
        "with open('compressed.wav', 'wb') as compressed_file:\n",
        "    compressed_file.write(compressed_data)\n"
      ]
    },
    {
      "attachments": {},
      "cell_type": "markdown",
      "metadata": {},
      "source": [
        "# Inverse Starts from Here"
      ]
    },
    {
      "cell_type": "code",
      "execution_count": 92,
      "metadata": {},
      "outputs": [
        {
          "name": "stdout",
          "output_type": "stream",
          "text": [
            "Requirement already satisfied: PyWavelets in ./venv/lib/python3.10/site-packages (1.4.1)\n",
            "Requirement already satisfied: numpy>=1.17.3 in ./venv/lib/python3.10/site-packages (from PyWavelets) (1.24.2)\n",
            "\n",
            "\u001b[1m[\u001b[0m\u001b[34;49mnotice\u001b[0m\u001b[1;39;49m]\u001b[0m\u001b[39;49m A new release of pip is available: \u001b[0m\u001b[31;49m23.1.1\u001b[0m\u001b[39;49m -> \u001b[0m\u001b[32;49m23.1.2\u001b[0m\n",
            "\u001b[1m[\u001b[0m\u001b[34;49mnotice\u001b[0m\u001b[1;39;49m]\u001b[0m\u001b[39;49m To update, run: \u001b[0m\u001b[32;49mpip install --upgrade pip\u001b[0m\n",
            "Note: you may need to restart the kernel to use updated packages.\n",
            "Requirement already satisfied: ffmpeg-python in ./venv/lib/python3.10/site-packages (0.2.0)\n",
            "Requirement already satisfied: future in ./venv/lib/python3.10/site-packages (from ffmpeg-python) (0.18.3)\n",
            "\n",
            "\u001b[1m[\u001b[0m\u001b[34;49mnotice\u001b[0m\u001b[1;39;49m]\u001b[0m\u001b[39;49m A new release of pip is available: \u001b[0m\u001b[31;49m23.1.1\u001b[0m\u001b[39;49m -> \u001b[0m\u001b[32;49m23.1.2\u001b[0m\n",
            "\u001b[1m[\u001b[0m\u001b[34;49mnotice\u001b[0m\u001b[1;39;49m]\u001b[0m\u001b[39;49m To update, run: \u001b[0m\u001b[32;49mpip install --upgrade pip\u001b[0m\n",
            "Note: you may need to restart the kernel to use updated packages.\n",
            "Requirement already satisfied: Wave in ./venv/lib/python3.10/site-packages (0.0.2)\n",
            "\n",
            "\u001b[1m[\u001b[0m\u001b[34;49mnotice\u001b[0m\u001b[1;39;49m]\u001b[0m\u001b[39;49m A new release of pip is available: \u001b[0m\u001b[31;49m23.1.1\u001b[0m\u001b[39;49m -> \u001b[0m\u001b[32;49m23.1.2\u001b[0m\n",
            "\u001b[1m[\u001b[0m\u001b[34;49mnotice\u001b[0m\u001b[1;39;49m]\u001b[0m\u001b[39;49m To update, run: \u001b[0m\u001b[32;49mpip install --upgrade pip\u001b[0m\n",
            "Note: you may need to restart the kernel to use updated packages.\n"
          ]
        }
      ],
      "source": [
        "%pip install PyWavelets\n",
        "%pip install ffmpeg-python\n",
        "%pip install Wave"
      ]
    },
    {
      "attachments": {},
      "cell_type": "markdown",
      "metadata": {},
      "source": [
        "# Get back the low freq file"
      ]
    },
    {
      "cell_type": "code",
      "execution_count": 93,
      "metadata": {},
      "outputs": [],
      "source": [
        "# Open the compressed file\n",
        "with open('compressed.wav', 'rb') as compressed_file:\n",
        "    # Read the compressed data from the file\n",
        "    compressed_data = compressed_file.read()\n",
        "\n",
        "# Decompress the data using zlib\n",
        "decompressed_data = zlib.decompress(compressed_data)\n",
        "\n",
        "# Open a new WAV file for writing\n",
        "with wave.open('decompressed_low.wav', 'wb') as wav_file:\n",
        "    # Set the WAV file parameters to match the original file\n",
        "    wav_file.setnchannels(nchannels)\n",
        "    wav_file.setsampwidth(sampwidth)\n",
        "    wav_file.setframerate(framerate)\n",
        "\n",
        "    # Write the decompressed data to the new WAV file\n",
        "    wav_file.writeframes(decompressed_data)"
      ]
    },
    {
      "cell_type": "markdown",
      "metadata": {},
      "source": [
        "# convert back to wav"
      ]
    },
    {
      "cell_type": "code",
      "execution_count": 94,
      "metadata": {},
      "outputs": [
        {
          "data": {
            "text/plain": [
              "<_io.BufferedRandom name='wav-output.wav'>"
            ]
          },
          "execution_count": 94,
          "metadata": {},
          "output_type": "execute_result"
        }
      ],
      "source": [
        "from pydub import AudioSegment\n",
        "\n",
        "# Load the MP3 audio file\n",
        "audio = AudioSegment.from_mp3(\"mp3-output.mp3\")\n",
        "\n",
        "# Export the audio file as WAV format\n",
        "audio.export(\"wav-output.wav\", format=\"wav\")"
      ]
    },
    {
      "cell_type": "markdown",
      "metadata": {},
      "source": [
        "## get back the files from combined file"
      ]
    },
    {
      "cell_type": "code",
      "execution_count": 95,
      "metadata": {},
      "outputs": [],
      "source": [
        "import wave\n",
        "\n",
        "# Open the combined WAV file\n",
        "input_file = wave.open(\"wav-output.wav\", \"rb\")\n",
        "\n",
        "# Get the audio parameters\n",
        "params = input_file.getparams()\n",
        "\n",
        "# Create a new WAV file for each input file\n",
        "file1 = wave.open(\"high1_i.wav\", \"wb\")\n",
        "file2 = wave.open(\"high2_i.wav\", \"wb\")\n",
        "file3 = wave.open(\"high3_i.wav\", \"wb\")\n",
        "file1.setparams(params)\n",
        "file2.setparams(params)\n",
        "file3.setparams(params)\n",
        "\n",
        "# Read the audio data from the input file and write it to the output files\n",
        "frames_read = 0\n",
        "while frames_read < input_file.getnframes():\n",
        "    data = input_file.readframes(6144)\n",
        "    file1.writeframes(data[:2048])\n",
        "    file2.writeframes(data[2048:4096])\n",
        "    file3.writeframes(data[4096:])\n",
        "    frames_read += 6144\n",
        "\n",
        "# Close the input and output files\n",
        "input_file.close()\n",
        "file1.close()\n",
        "file2.close()\n",
        "file3.close()"
      ]
    },
    {
      "attachments": {},
      "cell_type": "markdown",
      "metadata": {},
      "source": [
        "\n",
        "# Inverse DWT to get back the Original Audio"
      ]
    },
    {
      "cell_type": "code",
      "execution_count": 96,
      "metadata": {},
      "outputs": [
        {
          "name": "stdout",
          "output_type": "stream",
          "text": [
            "high3_i.wav\n",
            "1\n",
            "Length of cD_low: 330755\n",
            "Length of cD_high: 661507\n",
            "1\n",
            "Length of cD_low: 661507\n",
            "Length of cD_high: 661507\n",
            "high2_i.wav\n",
            "2\n",
            "Length of cD_low: 661507\n",
            "Length of cD_high: 165379\n",
            "2\n",
            "Length of cD_low: 661507\n",
            "Length of cD_high: 661507\n",
            "high1_i.wav\n",
            "3\n",
            "Length of cD_low: 661507\n",
            "Length of cD_high: 165379\n",
            "3\n",
            "Length of cD_low: 661507\n",
            "Length of cD_high: 661507\n"
          ]
        }
      ],
      "source": [
        "# audio_file = 'og.wav'\n",
        "# signal, sr = sf.read(audio_file)\n",
        "# for i in range (1,4):\n",
        "#     (cA,cD)=dwt(signal,'db4')\n",
        "#     low=idwt(cA,None,'db4')\n",
        "#     high=idwt(None,cD,'db4')\n",
        "#     fileNameLow=f'low{i}.wav'\n",
        "#     fileNameHigh=f'high{i}.wav'\n",
        "#     sf.write(fileNameLow,low,sr)\n",
        "#     sf.write(fileNameHigh,high,sr)\n",
        "#     signal,sr=sf.read(fileNameLow)\n",
        "\n",
        "# low_file='decompressed_low.wav'\n",
        "# signal_low, sr = sf.read(low_file)\n",
        "# for i in range (1,4):\n",
        "#     high_file=f'high{4-i}_i.wav'\n",
        "#     print(high_file)\n",
        "#     signal_high,sr_high=sf.read(high_file)\n",
        "#     (cA_low,cD_low)=dwt(signal_low,'db4')\n",
        "#     (cA_high,cD_high)=dwt(signal_high,'db4')\n",
        "#     # cD = np.zeros_like(cD_low)\n",
        "#     # cD[:len(cD_high)] = cD_high\n",
        "#     print(len(cA_high))\n",
        "#     print(len(cA_low))\n",
        "#     # Perform IDWT\n",
        "#     signal_low = idwt(cA_low, cD_high, 'db4')\n",
        "#     # signal_low=idwt(cA_low,cD_high,'db4')\n",
        "# sf.write('karan.wav',signal_low)\n",
        "low_file = 'decompressed_low.wav'\n",
        "signal_low, sr = sf.read(low_file)\n",
        "\n",
        "for i in range(1, 4):\n",
        "    high_file = f'high{4-i}_i.wav'\n",
        "    print(high_file)\n",
        "    signal_high, sr_high = sf.read(high_file)\n",
        "\n",
        "    # Apply DWT to both low and high frequency signals\n",
        "    (cA_low, cD_low) = dwt(signal_low, 'db4')\n",
        "    (cA_high, cD_high) = dwt(signal_high, 'db4')\n",
        "\n",
        "    print(i)\n",
        "    print(f\"Length of cD_low: {len(cA_low)}\")\n",
        "    print(f\"Length of cD_high: {len(cD_high)}\")\n",
        "\n",
        "    # Zero-pad the high-frequency coefficients to match the length of the low-frequency coefficients\n",
        "    pad_len = len(cD_high) - len(cA_low)\n",
        "    if pad_len<0:\n",
        "        pad_len=pad_len*-1\n",
        "        cD_high = np.pad(cD_high, (0,pad_len), 'constant', constant_values=0)\n",
        "    else:\n",
        "        cA_low = np.pad(cA_low, (0,pad_len), 'constant', constant_values=0)\n",
        "    \n",
        "    \n",
        "    print(i)\n",
        "    print(f\"Length of cD_low: {len(cA_low)}\")\n",
        "    print(f\"Length of cD_high: {len(cD_high)}\")\n",
        "\n",
        "\n",
        "\n",
        "    # Perform IDWT to combine the low and high frequency signals\n",
        "    signal_low = idwt(cA_low, cD_high, 'db4')\n",
        "\n",
        "# Write the combined signal to a new WAV file\n",
        "signal_low = signal_low[:len(signal_low)//2]\n",
        "\n",
        "sf.write('output.wav', signal_low, sr)"
      ]
    },
    {
      "attachments": {},
      "cell_type": "markdown",
      "metadata": {},
      "source": [
        "# PSNR ratio for output and input signals"
      ]
    },
    {
      "cell_type": "code",
      "execution_count": 97,
      "metadata": {},
      "outputs": [
        {
          "name": "stdout",
          "output_type": "stream",
          "text": [
            "PSNR: 29.86372974209923 dB\n"
          ]
        }
      ],
      "source": [
        "import numpy as np\n",
        "import soundfile as sf\n",
        "\n",
        "# Load the original and reconstructed signals\n",
        "original_file = 'og.wav'\n",
        "reconstructed_file = 'output.wav'\n",
        "original, sr = sf.read(original_file)\n",
        "reconstructed, sr = sf.read(reconstructed_file)\n",
        "\n",
        "# Ensure that the signals are the same length\n",
        "min_length = min(len(original), len(reconstructed))\n",
        "original = original[:min_length]\n",
        "reconstructed = reconstructed[:min_length]\n",
        "\n",
        "# Calculate the mean squared error (MSE) between the signals\n",
        "mse = np.mean((original - reconstructed) ** 2)\n",
        "\n",
        "# Calculate the maximum possible value of the signal\n",
        "max_signal = np.max(original)\n",
        "\n",
        "# Calculate the PSNR in decibels\n",
        "psnr = 10 * np.log10(max_signal ** 2 / mse)\n",
        "\n",
        "print(f\"PSNR: {psnr} dB\")"
      ]
    },
    {
      "cell_type": "code",
      "execution_count": 98,
      "metadata": {},
      "outputs": [
        {
          "data": {
            "image/png": "[encoded data removed]",
            "text/plain": [
              "<Figure size 640x480 with 2 Axes>"
            ]
          },
          "metadata": {},
          "output_type": "display_data"
        },
        {
          "name": "stdout",
          "output_type": "stream",
          "text": [
            "RMS Error: 0.031054270555374772\n"
          ]
        }
      ],
      "source": [
        "import matplotlib.pyplot as plt\n",
        "# fileNameLow=\"low1.wav\"\n",
        "signal1,Fs1=sf.read('og.wav')\n",
        "signal2,Fs2=sf.read('output.wav')\n",
        "# Compute the RMS error between the two signals\n",
        "error = np.sqrt(np.mean((signal1 - signal2)**2))\n",
        "\n",
        "# Display a plot comparing the two signals\n",
        "t1 = np.arange(0, len(signal1)/Fs1, 1/Fs1)\n",
        "t2 = np.arange(0, len(signal2)/Fs2, 1/Fs2)\n",
        "plt.subplot(2, 1, 1)\n",
        "plt.plot(t1, signal1)\n",
        "plt.title('Signal 1')\n",
        "plt.xlabel('Time (s)')\n",
        "plt.ylabel('Amplitude')\n",
        "plt.subplot(2, 1, 2)\n",
        "plt.plot(t2, signal2)\n",
        "plt.title('Signal 2')\n",
        "plt.xlabel('Time (s)')\n",
        "plt.ylabel('Amplitude')\n",
        "plt.show()\n",
        "\n",
        "# Print the RMS error\n",
        "print('RMS Error:', error)"
      ]
    },
    {
      "cell_type": "code",
      "execution_count": null,
      "metadata": {},
      "outputs": [],
      "source": []
    },
    {
      "cell_type": "code",
      "execution_count": null,
      "metadata": {},
      "outputs": [],
      "source": []
    },
    {
      "cell_type": "code",
      "execution_count": null,
      "metadata": {},
      "outputs": [],
      "source": []
    },
    {
      "cell_type": "code",
      "execution_count": null,
      "metadata": {},
      "outputs": [],
      "source": []
    },
    {
      "cell_type": "code",
      "execution_count": null,
      "metadata": {},
      "outputs": [],
      "source": []
    }
  ],
  "metadata": {
    "colab": {
      "provenance": []
    },
    "kernelspec": {
      "display_name": "Python 3",
      "name": "python3"
    },
    "language_info": {
      "codemirror_mode": {
        "name": "ipython",
        "version": 3
      },
      "file_extension": ".py",
      "mimetype": "text/x-python",
      "name": "python",
      "nbconvert_exporter": "python",
      "pygments_lexer": "ipython3",
      "version": "3.10.6"
    }
  },
  "nbformat": 4,
  "nbformat_minor": 0
}
